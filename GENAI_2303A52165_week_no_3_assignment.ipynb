{
  "nbformat": 4,
  "nbformat_minor": 0,
  "metadata": {
    "colab": {
      "provenance": [],
      "include_colab_link": true
    },
    "kernelspec": {
      "name": "python3",
      "display_name": "Python 3"
    },
    "language_info": {
      "name": "python"
    }
  },
  "cells": [
    {
      "cell_type": "markdown",
      "metadata": {
        "id": "view-in-github",
        "colab_type": "text"
      },
      "source": [
        "<a href=\"https://colab.research.google.com/github/2303A52165/GENERATIVE_AI_2025/blob/main/GENAI_2303A52165_week_no_3_assignment.ipynb\" target=\"_parent\"><img src=\"https://colab.research.google.com/assets/colab-badge.svg\" alt=\"Open In Colab\"/></a>"
      ]
    },
    {
      "cell_type": "markdown",
      "source": [
        "#**1st Question:**\n",
        "#**Write Python code without using any libraries to find the value of x at which the function f(x) shown in equation (1) has minimum value. Consider Gradient Descent Algorithm.**\n",
        "#**f(x) = 5x⁴ + 3x² + 10**"
      ],
      "metadata": {
        "id": "DlHQpHdINzuF"
      }
    },
    {
      "cell_type": "code",
      "execution_count": null,
      "metadata": {
        "colab": {
          "base_uri": "https://localhost:8080/"
        },
        "id": "MfGNgx0AMU-5",
        "outputId": "87e93217-75ff-463b-b09d-9c9eeeb07918"
      },
      "outputs": [
        {
          "output_type": "stream",
          "name": "stdout",
          "text": [
            "Converged after 166 iterations\n",
            "Minimum occurs at x = 1.5377093794492703e-05\n",
            "Minimum value = 10.000000000709365\n"
          ]
        }
      ],
      "source": [
        "def f(x):\n",
        "    return 5 * x**4 + 3 * x**2 + 10\n",
        "\n",
        "def df(x):\n",
        "    return 20 * x**3 + 6 * x\n",
        "\n",
        "def gradient_descent(learning_rate, max_iterations):\n",
        "  # Initialize x\n",
        "    x = 1.0\n",
        "\n",
        "    for i in range(max_iterations):\n",
        "        gradient = df(x)\n",
        "        prev_x = x\n",
        "        x = x - learning_rate * gradient\n",
        "\n",
        "        if abs(x - prev_x) < 1e-6:\n",
        "            print(f\"Converged after {i+1} iterations\")\n",
        "            break\n",
        "\n",
        "    return x\n",
        "learning_rate = 0.01\n",
        "max_iterations = 1000\n",
        "min_x = gradient_descent(learning_rate, max_iterations)\n",
        "min_value = f(min_x)\n",
        "\n",
        "print(f\"Minimum occurs at x = {min_x}\")\n",
        "print(f\"Minimum value = {min_value}\")"
      ]
    },
    {
      "cell_type": "markdown",
      "source": [
        "# **2nd Question:**\n",
        "#**write Python code without using any libraries to find the value of x and y at which the function g(x,y) shown in equation (2) has minimum value. Consider Gradient Descent Algorithm.**\n",
        "#**f(x) = 3x² + 5e−ʸ + 10**"
      ],
      "metadata": {
        "id": "7Lsqes-fO6uB"
      }
    },
    {
      "cell_type": "code",
      "source": [
        "e = 2.718281828459045\n",
        "\n",
        "def g(x, y):\n",
        "    return 3 * x**2 + 5 * (e**-y) + 10\n",
        "\n",
        "def dg_dx(x, y):\n",
        "    return 6 * x  # Partial derivative with respect to x\n",
        "\n",
        "def dg_dy(x, y):\n",
        "    return -5 * (e**-y)  # Partial derivative with respect to y\n",
        "\n",
        "def gradient_descent_2d(learning_rate, max_iterations):\n",
        "    x = 1.0\n",
        "    y = 1.0\n",
        "\n",
        "    for i in range(max_iterations):\n",
        "        grad_x = dg_dx(x, y)\n",
        "        grad_y = dg_dy(x, y)\n",
        "        prev_x = x\n",
        "        prev_y = y\n",
        "        x = x - learning_rate * grad_x\n",
        "        y = y - learning_rate * grad_y\n",
        "\n",
        "        if ((x - prev_x)**2 + (y - prev_y)**2)**0.5 < 1e-6:\n",
        "            print(f\"Converged after {i+1} iterations\")\n",
        "            break\n",
        "\n",
        "    return x, y\n",
        "\n",
        "learning_rate = 0.01\n",
        "max_iterations = 1000\n",
        "min_x, min_y = gradient_descent_2d(learning_rate, max_iterations)\n",
        "min_value = g(min_x, min_y)\n",
        "\n",
        "print(f\"Minimum occurs at x = {min_x} and y = {min_y}\")\n",
        "print(f\"Minimum value = {min_value}\")\n"
      ],
      "metadata": {
        "colab": {
          "base_uri": "https://localhost:8080/"
        },
        "id": "vWDYx_FUVb9S",
        "outputId": "9f95f956-ccb6-4723-b1a0-c2dbe6d49f31"
      },
      "execution_count": null,
      "outputs": [
        {
          "output_type": "stream",
          "name": "stdout",
          "text": [
            "Minimum occurs at x = 1.3423123924933694e-27 and y = 3.9663707936306647\n",
            "Minimum value = 10.094710265808493\n"
          ]
        }
      ]
    },
    {
      "cell_type": "markdown",
      "source": [
        "# **3rd Question:**\n",
        "# **Write Python code without using any libraries to find the value of x at which the sigmoid function z(x) shown in equation (3) has minimum value. Consider Gradient Descent Algorithm**\n",
        "\n",
        "![Screenshot 2025-01-23 142240.png](data:image/png;base64,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)"
      ],
      "metadata": {
        "id": "2CfftRh2WvQ-"
      }
    },
    {
      "cell_type": "code",
      "source": [
        "def gradient_descent_sigmoid(learning_rate, max_iterations):\n",
        "  # Initialize x\n",
        "    xi = 1.0\n",
        "    def sigmoid(x):\n",
        "        return 1 / (1 + math.exp(-x))\n",
        "    def sigmoid_derivative(x):\n",
        "        sig = sigmoid(x)\n",
        "        return sig * (1 - sig)\n",
        "    for i in range(max_iterations):\n",
        "        gradient = sigmoid_derivative(xi)\n",
        "        xi_new = xi - learning_rate * gradient\n",
        "        if abs(gradient) < 1e-6:\n",
        "            print(f\"Converged after {i+1} iterations\")\n",
        "            break\n",
        "\n",
        "        xi = xi_new\n",
        "\n",
        "    return xi\n",
        "\n",
        "learning_rate = 0.01\n",
        "max_iterations = 1000\n",
        "min_x = gradient_descent_sigmoid(learning_rate, max_iterations)\n",
        "\n",
        "print(f\"x = {min_x:.6f}\")\n",
        "print(f\"sigmoid(x) = {1/(1 + math.exp(-min_x)):.6f}\")\n"
      ],
      "metadata": {
        "colab": {
          "base_uri": "https://localhost:8080/"
        },
        "id": "4feI93DXYODn",
        "outputId": "c7c9f870-75e6-43e6-bc2d-f2fdad9c54ef"
      },
      "execution_count": null,
      "outputs": [
        {
          "output_type": "stream",
          "name": "stdout",
          "text": [
            "x = -1.240692\n",
            "sigmoid(x) = 0.224316\n"
          ]
        }
      ]
    },
    {
      "cell_type": "markdown",
      "source": [
        "# **4th Question:**\n",
        "# **Write Python code without using any libraries to find the value of optimal values of model parameters M and C such that the model’s Square Error Value shown in equation 4 will be minimum. It means model gives output close to expected output as shown in Figure 1**\n",
        "\n",
        "   ![image.png](data:image/png;base64,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)"
      ],
      "metadata": {
        "id": "oxdz4CE7YYJf"
      }
    },
    {
      "cell_type": "code",
      "source": [
        "def gradient_descent_linear_model(inputs, expected_outputs, learning_rate, num_iterations):\n",
        "    M, C = 0, 0\n",
        "    n = len(inputs)\n",
        "    for i in range(num_iterations):\n",
        "        grad_M = sum(-2 * x * (y - (M * x + C)) for x, y in zip(inputs, expected_outputs)) / n\n",
        "        grad_C = sum(-2 * (y - (M * x + C)) for x, y in zip(inputs, expected_outputs)) / n\n",
        "        M = M - learning_rate * grad_M\n",
        "        C = C - learning_rate * grad_C\n",
        "        if abs(grad_M) < 1e-6 and abs(grad_C) < 1e-6:\n",
        "            print(f\"Converged after {i+1} iterations\")\n",
        "            break\n",
        "\n",
        "    return M, C\n",
        "\n",
        "inputs = [1, 2, 3, 4]\n",
        "expected_outputs = [2, 4, 6, 8]\n",
        "learning_rate = 0.01\n",
        "num_iterations = 1000\n",
        "\n",
        "M, C = gradient_descent_linear_model(inputs, expected_outputs, learning_rate, num_iterations)\n",
        "print(f\"M = {M}, C = {C}\")"
      ],
      "metadata": {
        "colab": {
          "base_uri": "https://localhost:8080/"
        },
        "id": "fPbUn9SjZJ4Z",
        "outputId": "80007368-a027-40aa-acb7-83ebf2997573"
      },
      "execution_count": null,
      "outputs": [
        {
          "output_type": "stream",
          "name": "stdout",
          "text": [
            "M = 1.9896587550255742, C = 0.030404521305361965\n"
          ]
        }
      ]
    }
  ]
}